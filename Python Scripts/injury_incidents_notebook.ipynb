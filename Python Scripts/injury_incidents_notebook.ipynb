{
 "cells": [
  {
   "cell_type": "code",
   "execution_count": 1,
   "id": "83d1510d",
   "metadata": {},
   "outputs": [],
   "source": [
    "# ---------------- Importing used libraries\n",
    "import pandas as pd\n",
    "import numpy as np\n",
    "import matplotlib.pyplot as plt\n",
    "from datetime import datetime\n",
    "import scipy.stats as st"
   ]
  },
  {
   "cell_type": "code",
   "execution_count": 2,
   "id": "883e398a",
   "metadata": {},
   "outputs": [],
   "source": [
    "# ---------------------- Initial details & save path\n",
    "save_path = 'C:\\\\Users\\\\michael.moore\\\\OneDrive - RSSB\\\\Python scripts'\n",
    "date = datetime.today().strftime('%Y-%m-%d')\n",
    "name = '2024-DWG-Analysis' + '-' + date"
   ]
  },
  {
   "cell_type": "code",
   "execution_count": 3,
   "id": "620cda37",
   "metadata": {},
   "outputs": [],
   "source": [
    "# ----------------- parameters\n",
    "year = '2024/25'\n",
    "startperiod = 202201\n",
    "endperiod = 202412\n",
    "N = 38\n",
    "fyearpoints = [6.5, 19.5, 31.5]\n",
    "bigticks = [-0.5, 12.5, 25.5, N - 0.5]\n",
    "bigticks2 = [-0.5, 12.5, 25.5, N - 0.5]\n",
    "xlimitend = N - 0.5\n",
    "ylimitend = 1"
   ]
  },
  {
   "cell_type": "code",
   "execution_count": 4,
   "id": "0812e9b5",
   "metadata": {},
   "outputs": [],
   "source": [
    "# -------------------------- Load CSV \n",
    "csv_path = 'C:\\\\Users\\\\Micha\\\\OneDrive\\\\Projects\\\\depot_incident_analysis\\\\csv\\\\injury_incidents.csv'\n",
    "\n",
    "# Read CSV into DataFrame\n",
    "smis_df1 = pd.read_csv(csv_path)"
   ]
  },
  {
   "cell_type": "code",
   "execution_count": 5,
   "id": "74e96a8c",
   "metadata": {},
   "outputs": [
    {
     "name": "stdout",
     "output_type": "stream",
     "text": [
      "<class 'pandas.core.frame.DataFrame'>\n",
      "RangeIndex: 6040 entries, 0 to 6039\n",
      "Data columns (total 8 columns):\n",
      " #   Column              Non-Null Count  Dtype  \n",
      "---  ------              --------------  -----  \n",
      " 0   smis_reference      6040 non-null   object \n",
      " 1   event_date          6040 non-null   object \n",
      " 2   period              6040 non-null   int64  \n",
      " 3   place               5998 non-null   object \n",
      " 4   report_title        6040 non-null   object \n",
      " 5   description         6040 non-null   object \n",
      " 6   injury_degree_2013  6040 non-null   object \n",
      " 7   fwi_2013            6040 non-null   float64\n",
      "dtypes: float64(1), int64(1), object(6)\n",
      "memory usage: 377.6+ KB\n"
     ]
    },
    {
     "data": {
      "text/plain": [
       "smis_reference         0\n",
       "event_date             0\n",
       "period                 0\n",
       "place                 42\n",
       "report_title           0\n",
       "description            0\n",
       "injury_degree_2013     0\n",
       "fwi_2013               0\n",
       "dtype: int64"
      ]
     },
     "execution_count": 5,
     "metadata": {},
     "output_type": "execute_result"
    }
   ],
   "source": [
    "# ------ Finding out structure of dataframe\n",
    "smis_df1.info()\n",
    "smis_df1.isnull().sum()"
   ]
  },
  {
   "cell_type": "code",
   "execution_count": 6,
   "id": "acfa6b76",
   "metadata": {},
   "outputs": [
    {
     "data": {
      "text/html": [
       "<div>\n",
       "<style scoped>\n",
       "    .dataframe tbody tr th:only-of-type {\n",
       "        vertical-align: middle;\n",
       "    }\n",
       "\n",
       "    .dataframe tbody tr th {\n",
       "        vertical-align: top;\n",
       "    }\n",
       "\n",
       "    .dataframe thead th {\n",
       "        text-align: right;\n",
       "    }\n",
       "</style>\n",
       "<table border=\"1\" class=\"dataframe\">\n",
       "  <thead>\n",
       "    <tr style=\"text-align: right;\">\n",
       "      <th></th>\n",
       "      <th>smis_reference</th>\n",
       "      <th>event_date</th>\n",
       "      <th>period</th>\n",
       "      <th>place</th>\n",
       "      <th>report_title</th>\n",
       "      <th>description</th>\n",
       "      <th>injury_degree_2013</th>\n",
       "      <th>fwi_2013</th>\n",
       "    </tr>\n",
       "  </thead>\n",
       "  <tbody>\n",
       "    <tr>\n",
       "      <th>0</th>\n",
       "      <td>SMIS309149</td>\n",
       "      <td>2018-04-02 06:00:00.000</td>\n",
       "      <td>201801</td>\n",
       "      <td>Manchester Longsight MDU</td>\n",
       "      <td>Slip trip or fall</td>\n",
       "      <td>Longsight Depot 34 Road; Report of driver trip...</td>\n",
       "      <td>Non-severe</td>\n",
       "      <td>0.001</td>\n",
       "    </tr>\n",
       "    <tr>\n",
       "      <th>1</th>\n",
       "      <td>SMIS238120</td>\n",
       "      <td>2018-04-03 11:00:00.000</td>\n",
       "      <td>201801</td>\n",
       "      <td>Tyne Yard</td>\n",
       "      <td>Person interacting with animal, object,  vehic...</td>\n",
       "      <td>PA-SCO staff jarred right wrist whilst scrapin...</td>\n",
       "      <td>Non-severe</td>\n",
       "      <td>0.001</td>\n",
       "    </tr>\n",
       "    <tr>\n",
       "      <th>2</th>\n",
       "      <td>SMIS239138</td>\n",
       "      <td>2018-04-03 22:30:00.000</td>\n",
       "      <td>201801</td>\n",
       "      <td>Singlewell IMD</td>\n",
       "      <td>Person interacting with animal, object,  vehic...</td>\n",
       "      <td>PA DU Singlewell MOS sustained a graze on his ...</td>\n",
       "      <td>Non-severe</td>\n",
       "      <td>0.001</td>\n",
       "    </tr>\n",
       "    <tr>\n",
       "      <th>3</th>\n",
       "      <td>SMIS238148</td>\n",
       "      <td>2018-04-04 00:00:00.000</td>\n",
       "      <td>201801</td>\n",
       "      <td>Etches Park LMD (Derby)</td>\n",
       "      <td>Person interacting with animal, object,  vehic...</td>\n",
       "      <td>Bombardier staff injured at Etches park</td>\n",
       "      <td>Non-severe</td>\n",
       "      <td>0.001</td>\n",
       "    </tr>\n",
       "    <tr>\n",
       "      <th>4</th>\n",
       "      <td>SMIS309200</td>\n",
       "      <td>2018-04-04 14:30:00.000</td>\n",
       "      <td>201801</td>\n",
       "      <td>Carlisle St Nicholas Bridge MDU</td>\n",
       "      <td>Slip trip or fall</td>\n",
       "      <td>PA - Lancs and Cumbria DU: IP slipped on chequ...</td>\n",
       "      <td>Non-severe</td>\n",
       "      <td>0.001</td>\n",
       "    </tr>\n",
       "  </tbody>\n",
       "</table>\n",
       "</div>"
      ],
      "text/plain": [
       "  smis_reference               event_date  period  \\\n",
       "0     SMIS309149  2018-04-02 06:00:00.000  201801   \n",
       "1     SMIS238120  2018-04-03 11:00:00.000  201801   \n",
       "2     SMIS239138  2018-04-03 22:30:00.000  201801   \n",
       "3     SMIS238148  2018-04-04 00:00:00.000  201801   \n",
       "4     SMIS309200  2018-04-04 14:30:00.000  201801   \n",
       "\n",
       "                             place  \\\n",
       "0         Manchester Longsight MDU   \n",
       "1                        Tyne Yard   \n",
       "2                   Singlewell IMD   \n",
       "3          Etches Park LMD (Derby)   \n",
       "4  Carlisle St Nicholas Bridge MDU   \n",
       "\n",
       "                                        report_title  \\\n",
       "0                                  Slip trip or fall   \n",
       "1  Person interacting with animal, object,  vehic...   \n",
       "2  Person interacting with animal, object,  vehic...   \n",
       "3  Person interacting with animal, object,  vehic...   \n",
       "4                                  Slip trip or fall   \n",
       "\n",
       "                                         description injury_degree_2013  \\\n",
       "0  Longsight Depot 34 Road; Report of driver trip...         Non-severe   \n",
       "1  PA-SCO staff jarred right wrist whilst scrapin...         Non-severe   \n",
       "2  PA DU Singlewell MOS sustained a graze on his ...         Non-severe   \n",
       "3            Bombardier staff injured at Etches park         Non-severe   \n",
       "4  PA - Lancs and Cumbria DU: IP slipped on chequ...         Non-severe   \n",
       "\n",
       "   fwi_2013  \n",
       "0     0.001  \n",
       "1     0.001  \n",
       "2     0.001  \n",
       "3     0.001  \n",
       "4     0.001  "
      ]
     },
     "execution_count": 6,
     "metadata": {},
     "output_type": "execute_result"
    }
   ],
   "source": [
    "# --- Looking at dataset sample\n",
    "\n",
    "smis_df1.head(5)"
   ]
  },
  {
   "cell_type": "code",
   "execution_count": 7,
   "id": "262f4216",
   "metadata": {},
   "outputs": [
    {
     "name": "stdout",
     "output_type": "stream",
     "text": [
      "['Non-severe' 'Severe 7' 'Specified' 'Shock/Trauma' 'Shock/Trauma 7'\n",
      " 'Fatal']\n"
     ]
    }
   ],
   "source": [
    "# ------------ Identifying unique entries for mapping\n",
    "print(smis_df1['injury_degree_2013'].unique())"
   ]
  },
  {
   "cell_type": "code",
   "execution_count": 8,
   "id": "03868ec1",
   "metadata": {},
   "outputs": [],
   "source": [
    "# Define the mapping for injury degree values\n",
    "injury_map = {\n",
    "    'Fatal': 'Fatal',\n",
    "    'Non-severe': 'Non-severe',\n",
    "    'Severe 7': 'Severe',\n",
    "    'Severe H': 'Severe',\n",
    "    'Shock/Trauma': 'Shock/Trauma',\n",
    "    'Shock/Trauma 7': 'Shock/Trauma',\n",
    "    'Specified': 'Specified'\n",
    "}\n",
    "\n",
    "\n",
    "# Apply the mapping to the 'injury_degree_2013' column and create a new column 'injuries simplified'\n",
    "smis_df1['injuries simplified'] = smis_df1['injury_degree_2013'].map(injury_map)"
   ]
  },
  {
   "cell_type": "code",
   "execution_count": 9,
   "id": "1210bb8b",
   "metadata": {},
   "outputs": [],
   "source": [
    "# -------------------------------- Grouping data for counts\n",
    "\n",
    "# Count total events by period\n",
    "smis_counts1 = smis_df1.groupby(['period'])['injuries simplified'].count().fillna(0)\n",
    "\n",
    "# sum events by period and category\n",
    "smis_counts2 = smis_df1.groupby(['period', 'injuries simplified'])['fwi_2013'].sum().unstack('injuries simplified').fillna(0)\n",
    "\n",
    "# Add a column for total injury incidents\n",
    "smis_counts2['TotalInjuryIncidents'] = smis_counts2.sum(axis=1)"
   ]
  },
  {
   "cell_type": "code",
   "execution_count": 10,
   "id": "3a720fe2",
   "metadata": {},
   "outputs": [],
   "source": [
    "#make dataframe for results (plus one year before cut off to allow AMTs)\n",
    "#range of fiscal years in graph\n",
    "Nyears = 3 #number of years in graph ------ CHANGED FOR ISLG\n",
    "ymax = int(year[:4])\n",
    "ymin = int(ymax)-Nyears+1\n",
    "for i in range(Nyears+1):       \n",
    "    p1 = np.arange(1,14)\n",
    "    y1 = int(ymax)-Nyears+i\n",
    "    y2 = y1+1\n",
    "    data = pd.DataFrame({'Periods':p1.astype(str)})\n",
    "    data['Index'] = str(y1)+data['Periods'].str.zfill(2)\n",
    "    data['Index'] = data['Index'].astype(int)\n",
    "    data['Periods'] = 'P'+data['Periods']\n",
    "    data['Fiscal year'] = str(y1)+'/'+str(y2)\n",
    "    if i==0:\n",
    "        data1 = data\n",
    "    else:\n",
    "        data1 = pd.concat([data1, data],sort=True)\n",
    "\n",
    "#make smis and sidb dataframes\n",
    "data1 = data1.set_index('Index')\n",
    "\n",
    "smis_data2 = data1.join(smis_counts2)\n",
    "smis_data2 = smis_data2.fillna(0)"
   ]
  },
  {
   "cell_type": "code",
   "execution_count": 11,
   "id": "9982648d",
   "metadata": {},
   "outputs": [],
   "source": [
    "# ------------ Calculating annual moving average\n",
    "smis_data2['Injury Events AMA'] = smis_data2['TotalInjuryIncidents'].rolling(window=13).mean()"
   ]
  },
  {
   "cell_type": "code",
   "execution_count": 12,
   "id": "df3dadda",
   "metadata": {},
   "outputs": [],
   "source": [
    "# ----------------------------- Setting data cut\n",
    "smis_data2 = smis_data2[smis_data2.index>=startperiod] #only want periods after this\n",
    "\n",
    "smis_data2 = smis_data2[smis_data2.index<=endperiod] #only want periods before this\n"
   ]
  },
  {
   "cell_type": "code",
   "execution_count": 13,
   "id": "68ffca99",
   "metadata": {},
   "outputs": [],
   "source": [
    " # ----------------------------- upper and lower bounds\n",
    "conf_intervals_cut = smis_counts2[smis_counts2.index>=202101]  #cut the data that we will be calculating the upper and lower bounds on\n",
    "conf_intervals_cut = conf_intervals_cut[conf_intervals_cut.index<=202213]  #cut the data that we will be calculating the upper and lower bounds on\n",
    "\n",
    "conf_intervals_mean = np.mean(conf_intervals_cut['TotalInjuryIncidents']) #calculate the mean of the cut of data\n",
    "\n",
    "bounds = st.norm.interval(confidence=0.95, loc=conf_intervals_mean, scale=st.sem(conf_intervals_cut['TotalInjuryIncidents']))       #I think it is correct to use the standard error of the mean as we are looking at the whole population\n",
    "\n",
    "lowerbound = bounds[0]\n",
    "upperbound = bounds[1]\n"
   ]
  },
  {
   "cell_type": "code",
   "execution_count": 14,
   "id": "4d4d997a",
   "metadata": {},
   "outputs": [
    {
     "data": {
      "image/png": "[encoded data removed]",
      "text/plain": [
       "<Figure size 1300x600 with 1 Axes>"
      ]
     },
     "metadata": {},
     "output_type": "display_data"
    }
   ],
   "source": [
    "# ----------------- Drawing chart\n",
    "#set font parameters\n",
    "plt.rcParams['svg.fonttype'] = 'none'\n",
    "plt.rcParams['font.family'] = 'sans-serif'\n",
    "plt.rcParams['font.sans-serif'] = 'Calibri'\n",
    "plt.rcParams['font.size'] = 15.0\n",
    "\n",
    "#parameters for graphs\n",
    "fig = plt.figure(figsize=(13, 6))\n",
    "width = 0.5\n",
    "ind = np.arange(0,N,1)\n",
    "bordercolour = '0.6'\n",
    "#graphtitle = 'Trend in Contact with object events' #graph title\n",
    "\n",
    "fatalbar = np.array(smis_data2['Fatal'])\n",
    "severebar = np.array(smis_data2['Severe'])\n",
    "shocktraumabar = np.array(smis_data2['Shock/Trauma'])\n",
    "specifiedbar = np.array(smis_data2['Specified'])\n",
    "nonseverebar = np.array(smis_data2['Non-severe'])\n",
    "\n",
    "#x tick mark locations for all graphs\n",
    "ticks1 = np.arange(0,N,1) #set tick intervals\n",
    "ticklabels1 = smis_data2['Periods'].iloc[ticks1] #get labels at correct intervals\n",
    "ticklabels1 = ticklabels1.tolist()\n",
    "fyears = '\\n' + smis_data2['Fiscal year'].dropna().unique() #fiscal years (\\n makes it go one line below)\n",
    "ticklabels1 = ticklabels1 + fyears.tolist()\n",
    "ticks1 = ticks1.tolist() + fyearpoints\n",
    "\n",
    "ax1 = fig.add_subplot(1,1,1)\n",
    "#set labels\n",
    "ax1.set(ylabel='Number of events')\n",
    "#set xticks\n",
    "ax1.set_xlim(-0.5,xlimitend)\n",
    "ax1.set_ylim(0,ylimitend)\n",
    "ax1.set_xticks(ticks1, minor=True)\n",
    "ax1.set_xticklabels(ticklabels1, minor=True)\n",
    "ax1.set_xticks(bigticks)\n",
    "ax1.set_xticklabels([])\n",
    "ax1.tick_params(axis='x',which='minor',length=0)\n",
    "ax1.tick_params(axis='x',which='major',length=30,color=bordercolour)\n",
    "\n",
    "\n",
    "#gridlines\n",
    "ax1.yaxis.grid(which=\"major\", color=bordercolour, linestyle='-', linewidth=1, zorder=0) #add gridlines\n",
    "#plot bar graph\n",
    "\n",
    "ax1.bar(ind, fatalbar, width, color=(133/255, 16/255, 36/255), zorder=3, label='Fatal')\n",
    "ax1.bar(ind, specifiedbar, width, color=(33/255, 33/255, 79/255), zorder=3, \n",
    "        bottom=fatalbar, label='Specified')\n",
    "ax1.bar(ind, severebar, width, color=(229/255, 101/255, 66/255), zorder=3, \n",
    "        bottom=fatalbar + specifiedbar, label='Severe')\n",
    "ax1.bar(ind, nonseverebar, width, color=(27/255, 135/255, 76/255), zorder=3, \n",
    "        bottom=fatalbar + specifiedbar + severebar, label='Non-severe')\n",
    "ax1.bar(ind, shocktraumabar, width, color=(57/255, 13/255, 168/255), zorder=3, \n",
    "        bottom=fatalbar + specifiedbar + severebar + nonseverebar, label='Shock/Trauma')\n",
    "\n",
    "\n",
    "\n",
    "ax1.plot(ind, smis_data2['Injury Events AMA'], color='black',label='Total annual moving average (AMA)')\n",
    "\n",
    "############\n",
    "# Confidence intervals - NOT USING AT THE MOMENT\n",
    "ax1.plot([-0.5,xlimitend],[upperbound,upperbound], ls='--', color='black', label='Upper bound (95% confidence)')      \n",
    "ax1.plot([-0.5,xlimitend],[lowerbound,lowerbound], ls='--', color='black', label='Lower bound (95% confidence)')\n",
    "###########\n",
    "\n",
    "# Numbers on the top of each bar\n",
    "#for i in ind:\n",
    "    #ax1.text(x=ind[i], y=height[i], s=np.round(height[i], 1), ha='center', va='bottom')\n",
    "#remove borders and change colours\n",
    "ax1.spines['left'].set_visible(False)\n",
    "ax1.spines['right'].set_visible(False)\n",
    "ax1.spines['top'].set_visible(False)\n",
    "ax1.spines['bottom'].set_color(bordercolour)\n",
    "ax1.set_facecolor('whitesmoke')\n",
    "\n",
    "# Move legend to bottom of plot\n",
    "fig.legend(loc='upper center', bbox_to_anchor=(0.5, 0.03), ncol=3) \n",
    "\n",
    "\n",
    "fig.patch.set_facecolor('whitesmoke')\n",
    "plt.show()\n"
   ]
  }
 ],
 "metadata": {
  "kernelspec": {
   "display_name": "Python 3",
   "language": "python",
   "name": "python3"
  },
  "language_info": {
   "codemirror_mode": {
    "name": "ipython",
    "version": 3
   },
   "file_extension": ".py",
   "mimetype": "text/x-python",
   "name": "python",
   "nbconvert_exporter": "python",
   "pygments_lexer": "ipython3",
   "version": "3.13.3"
  }
 },
 "nbformat": 4,
 "nbformat_minor": 5
}
